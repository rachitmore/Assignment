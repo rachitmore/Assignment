{
 "cells": [
  {
   "cell_type": "markdown",
   "id": "7b211d99",
   "metadata": {},
   "source": [
    "Assignment_1\n"
   ]
  },
  {
   "cell_type": "markdown",
   "id": "06f3391f",
   "metadata": {},
   "source": [
    "1.What type of error we have encounter and why and also include the examples.\n",
    "\n",
    "2. take input a and b and print their sum,mul,div,sq.\n",
    "\n",
    "3. how may reserved keywords are there in python and why should not use them as a variable name \n",
    "\n",
    "4.create email id with the user input . in the following format \n",
    "<lastname.firstname@gmail.com>\n",
    "\n",
    "5.try to print the following line -\n",
    "- Hi I'm Sunny \n",
    "- My address is 22/33\n",
    "- I earn 20$ daily.\n",
    "\n",
    "6 .  take useer input(name,address,DOB,) to fill a form for your college and create their email id \n",
    "\n",
    "7 .convert the following -\n",
    "- \"22.5\" into 22\n",
    "- \"22\" into complex number"
   ]
  },
  {
   "cell_type": "code",
   "execution_count": 1,
   "id": "3e8b850b",
   "metadata": {},
   "outputs": [],
   "source": [
    "#1.What type of error we have encounter and why and also include the examples.\n",
    "\n",
    "try:\n",
    "    ten=10\n",
    "    print(Ten)\n",
    "except Exception as e:\n",
    "    print(e)\n",
    "#variable is case sensitive and ten != Ten\n",
    "a=\"ten\"\n",
    "b=\"Ten\"\n",
    "a==b #here the out is false hence ten is not equal to Ten\n",
    "\n",
    "try:\n",
    "    a,b,c=10\n",
    "    print(a,b,c)\n",
    "except Exception as e :\n",
    "    print(e)\n",
    "\n",
    "try:\n",
    "    x=input()\n",
    "    b=input()\n",
    "    print(a*b)\n",
    "except Exception as e:\n",
    "    print(e)\n",
    "try:\n",
    "    a=\"12.5\"\n",
    "    a=int(a)\n",
    "    print(a)\n",
    "except Exception as e:\n",
    "    print(e)\n",
    "    \n",
    "# def = 10\n",
    "# print(def) here the output will be syntax error as def is keyword and keyword can not assign as variable\n",
    "\n",
    "\n",
    "    "
   ]
  },
  {
   "cell_type": "code",
   "execution_count": 2,
   "id": "dc294788",
   "metadata": {},
   "outputs": [],
   "source": [
    "#2. Take input a and b and print their sum,mul,div,sq.\n",
    "a=int(input(\"Enter the First Number\"))\n",
    "b=int(input(\"Enter the First Number\"))\n",
    "print(f\"Sum of the two given Number is {a+b}\")\n",
    "print(f\"Substraction of the {a} with {b}  is {a-b} and {b} with {a} is {b-a}\")\n",
    "print(f\"Multiplication of the two given Number {a*b}\")\n",
    "print(f\"Divison of the {a} by {b} is {a/b} and {b} by {a} is {b/a}\")\n",
    "print(f\"Square of the {a} is {a**2} and {b} is {b**2}\")"
   ]
  },
  {
   "cell_type": "code",
   "execution_count": 3,
   "id": "93a962a6",
   "metadata": {},
   "outputs": [],
   "source": [
    "#3. How may reserved keywords are there in python and why should not use them as a variable name\n",
    "\n",
    "# Python has several reserved keywords are following \n",
    "# and       del       from      not       while    \n",
    "# as        elif      global    or        with     \n",
    "# assert    else      if        pass      yield    \n",
    "# break     except    import    print              \n",
    "# class     exec      in        raise              \n",
    "# continue  finally   is        return             \n",
    "# def       for       lambda    try\n",
    "\n",
    "# variable should not be keyword because keyword become variable and \n",
    "# one can not use the that keyword as it become variable and function of keyword become null and void "
   ]
  },
  {
   "cell_type": "code",
   "execution_count": 4,
   "id": "52d2e24c",
   "metadata": {},
   "outputs": [],
   "source": [
    "# 4.Create email id with the user input . in the following format \n",
    "# <lastname.firstname@gmail.com>\n",
    "first_name = input(\"Enter the First Name : \")\n",
    "lastname = input(\"Enter the Last Name : \")\n",
    "print(f\"{lastname}.{first_name}@gmail.com\")\n"
   ]
  },
  {
   "cell_type": "code",
   "execution_count": 5,
   "id": "0f4c680a",
   "metadata": {},
   "outputs": [],
   "source": [
    "# 5.Try to print the following line -\n",
    "# - Hi I'm Sunny. \n",
    "# - My address is 22/33.\n",
    "# - I earn 20$ daily.\n",
    "\n",
    "print(\"Hi I'm Sunny.\")\n",
    "print(\"My address is 22/33.\")\n",
    "print(\"I earn 20$ daily.\")"
   ]
  },
  {
   "cell_type": "code",
   "execution_count": 6,
   "id": "94ef1aa6",
   "metadata": {},
   "outputs": [],
   "source": [
    "#6. Take user input(name,address,DOB,) to fill a form for your college and create their email id\n",
    "name = input(\"Enter the name \")\n",
    "address = input(\"enter the address\")\n",
    "Date_of_birth=input(\"enter the date of birth\")\n",
    "print(f\"\"\"Name is {name}\n",
    "Address is {address}\n",
    "Date of birth is {Date_of_birth}\n",
    "\"\"\")\n",
    "print(f\"Here your college id {name}{address}.{Date_of_birth}@college.in\")"
   ]
  },
  {
   "cell_type": "code",
   "execution_count": 7,
   "id": "a2bfd3d7",
   "metadata": {},
   "outputs": [],
   "source": [
    "# 7. Convert the following -\n",
    "# - \"22.5\" into 22\n",
    "# - \"22\" into complex number\n",
    "\n",
    "a=\"22.5\"\n",
    "a=int(float(a))\n",
    "print(a)\n",
    "a=complex(a)\n",
    "print(a)"
   ]
  },
  {
   "cell_type": "code",
   "execution_count": null,
   "id": "eab77f85",
   "metadata": {},
   "outputs": [],
   "source": []
  }
 ],
 "metadata": {
  "kernelspec": {
   "display_name": "Python 3 (ipykernel)",
   "language": "python",
   "name": "python3"
  },
  "language_info": {
   "codemirror_mode": {
    "name": "ipython",
    "version": 3
   },
   "file_extension": ".py",
   "mimetype": "text/x-python",
   "name": "python",
   "nbconvert_exporter": "python",
   "pygments_lexer": "ipython3",
   "version": "3.9.12"
  }
 },
 "nbformat": 4,
 "nbformat_minor": 5
}
